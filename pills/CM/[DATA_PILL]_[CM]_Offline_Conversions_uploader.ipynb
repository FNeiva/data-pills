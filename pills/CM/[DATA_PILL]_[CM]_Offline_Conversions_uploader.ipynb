{
  "nbformat": 4,
  "nbformat_minor": 0,
  "metadata": {
    "colab": {
      "name": "[DATA PILL] [CM] - Offline Conversions uploader.ipynb",
      "provenance": [],
      "collapsed_sections": []
    },
    "kernelspec": {
      "name": "python3",
      "display_name": "Python 3"
    }
  },
  "cells": [
    {
      "cell_type": "markdown",
      "metadata": {
        "id": "lGpD88nBKjFV"
      },
      "source": [
        "### **MAKE A COPY OF THIS DOCUMENT BEFORE START WORKING ON IT**\n"
      ]
    },
    {
      "cell_type": "markdown",
      "metadata": {
        "id": "_elHVFYBbHcw"
      },
      "source": [
        "Copyright 2021 Google LLC\n",
        "\n",
        "Licensed under the Apache License, Version 2.0 (the \"License\");\n",
        "you may not use this file except in compliance with the License.\n",
        "You may obtain a copy of the License at\n",
        "\n",
        "    https://www.apache.org/licenses/LICENSE-2.0\n",
        "\n",
        "Unless required by applicable law or agreed to in writing, software\n",
        "distributed under the License is distributed on an \"AS IS\" BASIS,\n",
        "WITHOUT WARRANTIES OR CONDITIONS OF ANY KIND, either express or implied.\n",
        "See the License for the specific language governing permissions and\n",
        "limitations under the License."
      ]
    },
    {
      "cell_type": "markdown",
      "metadata": {
        "id": "rTEVcLgTCAQs"
      },
      "source": [
        "# Upload offline conversions to Campaign Manager\n",
        "\n",
        "\n",
        "\n",
        "> **What is?**\n",
        "\n",
        "\n",
        "CM Offline Conversions uploader is sample code that can easily be run by advertisers. With the CM Offline Conversions uploader, you can easily import conversions and build audiences out of those conversions. This is a great solution if you are looking for:\n",
        "\n",
        "*  Uploading conversions that have been impacted by a campaign of the advertiser\n",
        "\n",
        "*   Optimize a campaign based on offline Conversions\n",
        "\n",
        "*   Build Audiences out of the conversions that you can upload.\n",
        "\n",
        "\n",
        "\n",
        "> **What do I need to use this Datapill?**\n",
        "\n",
        "1.   Make a copy of this Colab (It is ready to go!)\n",
        "2.   Create a spreadsheet in the Google Drive of the person that will run the cells of this DataPill (colab). The spreadsheet must have the information of the gclids or Device_IDs listed in the first column. There should be 1 ID per row. \n",
        "3.   Create Sercvice Account and give it access to the Campaign Manager Advertiser\n",
        "\n",
        "For more detail visit [this document](https://docs.google.com/document/d/1P9ApL9_lMna53LYB6LzgHYkq_ecJaI5imT2FDG83fmg/edit?usp=sharing)\n",
        "\n",
        "\n",
        "\n",
        "\n",
        "> **Is there anything else I need to know?**\n",
        "\n",
        "\n",
        "1.   To upload Offline conversions based on Device_IDs (IDFA,ADID) they should have been exposed to a Campaign Manager's Campaign from the Advertiser who is trying to upload the conversions.\n",
        "\n",
        "\n",
        "\n",
        "\n",
        "> **Documentation**\n",
        "\n",
        "[Conversions batchUpdate via API](https://developers.google.com/doubleclick-advertisers/v3.3/conversions/batchupdate) \n",
        "\n",
        "[FAQ Campaign Manager API](https://developers.google.com/doubleclick-advertisers/guides/conversions_faq)\n",
        "\n",
        "\n",
        "\n",
        "> **Disclaimers**\n",
        "\n",
        "Copyright 2019 Google LLC. This solution, including any related sample code or data, is made available on an “as is,” “as available,” and “with all faults” basis, solely for illustrative purposes, and without warranty or representation of any kind. This solution is experimental, unsupported and provided solely for your convenience. Your use of it is subject to your agreements with Google, as applicable, and may constitute a beta feature as defined under those agreements.  To the extent that you make any data available to Google in connection with your use of the solution, you represent and warrant that you have all necessary and appropriate rights, consents and permissions to permit Google to use and process that data.  By using any portion of this solution, you acknowledge, assume and accept all risks, known and unknown, associated with its usage, including with respect to your deployment of any portion of this solution in your systems, or usage in connection with your business, if at all.\n"
      ]
    },
    {
      "cell_type": "markdown",
      "metadata": {
        "id": "paTZ7QtKp4kl"
      },
      "source": [
        "\n",
        "\n",
        "---\n",
        "\n",
        "\n",
        "\n",
        "---\n",
        "\n",
        "\n",
        "\n",
        "# **Upload Necesary information for Offline conversions**\n",
        "\n",
        "**key_type** needs to have one of those two values:  \n",
        "- gclid\n",
        "- mobileDeviceId\n"
      ]
    },
    {
      "cell_type": "code",
      "metadata": {
        "id": "VtfUTwXgdRnR"
      },
      "source": [
        "# Model parameters\n",
        "floodlightActivityId =  123123#@param {type:\"integer\"}\n",
        "floodlightConfigurationId = 3123123 #@param {type:\"integer\"}\n",
        "credentials_dict = \"\" #@param {type:\"string\"}\n",
        "profileId_CM = \"1231231\" #@param {type:\"string\"}\n",
        "sheet_name = \"devices_ids\" #@param {type:\"string\"}\n",
        "key_type = \"mobileDeviceId\" #@param {type: \"string\"}\n"
      ],
      "execution_count": null,
      "outputs": []
    },
    {
      "cell_type": "code",
      "metadata": {
        "id": "wodc-R2BrIGD"
      },
      "source": [
        ""
      ],
      "execution_count": null,
      "outputs": []
    },
    {
      "cell_type": "code",
      "metadata": {
        "id": "pdmPOg9UaXf4"
      },
      "source": [
        "print(credentials_dict)"
      ],
      "execution_count": null,
      "outputs": []
    },
    {
      "cell_type": "code",
      "metadata": {
        "id": "Yv6XJpP22s3B"
      },
      "source": [
        "!pip install --upgrade -q gspread"
      ],
      "execution_count": null,
      "outputs": []
    },
    {
      "cell_type": "code",
      "metadata": {
        "id": "ukjdOsHN2s15"
      },
      "source": [
        "from google.colab import auth\n",
        "auth.authenticate_user()\n",
        "\n",
        "import gspread\n",
        "from oauth2client.client import GoogleCredentials\n",
        "\n",
        "gc = gspread.authorize(GoogleCredentials.get_application_default())\n",
        "\n"
      ],
      "execution_count": null,
      "outputs": []
    },
    {
      "cell_type": "code",
      "metadata": {
        "id": "llQXm8hS2nh0"
      },
      "source": [
        "import json\n",
        "import httplib2\n",
        "import time\n",
        "from oauth2client.service_account import ServiceAccountCredentials\n",
        "from googleapiclient import discovery\n",
        "\n",
        "\n",
        "def chunks(l, n):\n",
        "    for i in range(0, len(l), n):\n",
        "        yield l[i:i+n]\n",
        "\n",
        "\n",
        "def get_conversions():\n",
        "    conversions = []\n",
        "    conversion = {\n",
        "        'floodlightActivityId': floodlightActivityId,\n",
        "        'floodlightConfigurationId': floodlightConfigurationId,\n",
        "    }  \n",
        "    worksheet = gc.open(sheet_name).sheet1\n",
        "\n",
        "    # get_all_values gives a list of rows.\n",
        "    results = worksheet.get_all_values()\n",
        "\n",
        "    customVars = []\n",
        "\n",
        "    for row in results:\n",
        "          \n",
        "      current_time_in_micros = int(time.time() * 1000000)\n",
        "      conversion[key_type] = row[0]\n",
        "      conversion['ordinal'] = current_time_in_micros\n",
        "      conversion['timestampMicros'] = current_time_in_micros\n",
        "      # customVars.append(\n",
        "      #   {\n",
        "      #     \"kind\": \"dfareporting#customFloodlightVariable\",\n",
        "      #     \"type\": 'u1',\n",
        "      #     \"value\": row[1]\n",
        "      #   }\n",
        "      # )\n",
        "      \n",
        "\n",
        "      # conversion['customVariables'] = customVars\n",
        "      print(conversion)\n",
        "      conversions.append(conversion)\n",
        "    return conversions\n",
        "\n",
        "\n",
        "def send_conversions(conversion, service):\n",
        "    request_body = {\n",
        "      'conversions': conversion,\n",
        "    }\n",
        "    request = service.conversions().batchinsert(profileId= profileId_CM,\n",
        "                                            body=request_body)\n",
        "    \n",
        "    ### SHOULD WE CHANGE THIS PROFILE ID \n",
        "    \n",
        "    response = request.execute()\n",
        "\n",
        "    print(response)\n",
        "\n",
        "\n",
        "\n",
        "\n",
        "def get_service_auth():\n",
        "  OAUTH_SCOPES = ['https://www.googleapis.com/auth/dfareporting', 'https://www.googleapis.com/auth/ddmconversions', 'https://www.googleapis.com/auth/dfatrafficking']\n",
        "\n",
        "\n",
        "\n",
        "  json_data = json.loads(credentials_dict, strict=False)\n",
        "\n",
        "\n",
        "  \"\"\"Authorizes an httplib2.Http instance using service account credentials.\"\"\"\n",
        "  # Load the service account credentials from the specified JSON keyfile.\n",
        "  credentials = ServiceAccountCredentials.from_json_keyfile_dict(json_data, scopes=OAUTH_SCOPES)\n",
        " \n",
        "  # Use the credentials to authorize an httplib2.Http instance.\n",
        "  http = credentials.authorize(httplib2.Http())\n",
        "\n",
        "  # Construct a service object via the discovery service.\n",
        "  service = discovery.build('dfareporting', 'v3.3', http=http)\n",
        "  \n",
        "  return service\n",
        "\n",
        "\n",
        "def main():\n",
        "    data = get_conversions()\n",
        "    print(\"________________________________________\")    \n",
        "    print(\"Sendind chunks\")\n",
        "    service = get_service_auth()\n",
        "    conversions = chunks(data, 100)\n",
        "    for conversion in conversions:\n",
        "      print(conversion)\n",
        "      send_conversions(conversion, service)\n",
        "    return \"Done\"\n",
        "\n",
        "main()\n",
        "\n"
      ],
      "execution_count": null,
      "outputs": []
    }
  ]
}