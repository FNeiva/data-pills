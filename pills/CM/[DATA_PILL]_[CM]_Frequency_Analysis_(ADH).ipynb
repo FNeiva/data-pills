{
  "nbformat": 4,
  "nbformat_minor": 0,
  "metadata": {
    "colab": {
      "name": "[DATA PILL] [CM] - Frequency Analysis (ADH).ipynb",
      "provenance": [],
      "collapsed_sections": [
        "UwB0I0uwT1YE"
      ],
      "toc_visible": true
    },
    "kernelspec": {
      "name": "python2",
      "display_name": "Python 2"
    }
  },
  "cells": [
    {
      "cell_type": "markdown",
      "metadata": {
        "id": "6ymT0ZkHRiQ7"
      },
      "source": [
        "**PLEASE MAKE A COPY BEFORE CHANGING**\n",
        "\n",
        "Licensed under the Apache License, Version 2.0 (the \"License\");\n",
        "you may not use this file except in compliance with the License.\n",
        "You may obtain a copy of the License at\n",
        "\n",
        "    https://www.apache.org/licenses/LICENSE-2.0\n",
        "\n",
        "Unless required by applicable law or agreed to in writing, software\n",
        "distributed under the License is distributed on an \"AS IS\" BASIS,\n",
        "WITHOUT WARRANTIES OR CONDITIONS OF ANY KIND, either express or implied.\n",
        "See the License for the specific language governing permissions and\n",
        "limitations under the License.\n",
        "\n",
        "\n",
        "#Important\n",
        "This content are intended for educational and informational purposes only."
      ]
    },
    {
      "cell_type": "markdown",
      "metadata": {
        "id": "Zu61fExLm_WC"
      },
      "source": [
        "# Configuration "
      ]
    },
    {
      "cell_type": "markdown",
      "metadata": {
        "id": "sqJ6o0AxmT7h"
      },
      "source": [
        "\n",
        "## ADH APIs Configuration Steps\n",
        " - Enable the ADH v1 API in the Google Cloud Storage account you use to access the API.\n",
        "When searching for the API in your GCP Console API Library, use the search term “adsdatahub”. \n",
        " - Go to the [Google Developers Console](https://console.developers.google.com/) and verify that you have access to your Google Cloud project via the drop-down menu at the top of the page. **If you don't see the right Google Cloud project, you should reach out to your Ads Data Hub team to get access.**\n",
        " - From the project drop-down menu, select your Big Query project.\n",
        " - Click on the hamburger button on the top left corner of the page and click **APIs & services > Credentials**.\n",
        " - If you have not done so already, create an API key by clicking the **Create credentials** drop-down menu and select **API key**. This will create an API key that you will need for a later step.\n",
        " - If you have not done so already, create a new OAuth 2.0 client ID by clicking the **Create credentials** button and select **OAuth client ID**. For the **Application type** select **Other** and optionally enter a name to be associated with the client ID. Click **Create** to create the new Client ID and a dialog will appear to show you your client ID and secret. On the [Credentials page](https://pantheon.corp.google.com/apis/credentials) for\n",
        "   your project, find your new client ID listed under **OAuth 2.0 client IDs**, and click the corresponding download icon. The downloaded file will contain your credentials, which will be needed to step through the OAuth 2.0 installed application flow.\n",
        "- update the `DEVELOPER_KEY` field to match the\n",
        "   API key you retrieved earlier.\n",
        "- Rename the credentials file you downloaded earlier to adh-key.json and upload the file in this colab (on the left menu click on the \"Files\" tab and then click on the \"upload\" button"
      ]
    },
    {
      "cell_type": "code",
      "metadata": {
        "id": "rDr7ZiJhmhYT"
      },
      "source": [
        "# The Developer Key is used to retrieve a discovery document containing the\n",
        "# non-public Full Circle Query v2 API. This is used to build the service used\n",
        "# in the samples to make API requests. Please see the README for instructions\n",
        "# on how to configure your Google Cloud Project for access to the Full Circle\n",
        "# Query v2 API.\n",
        "DEVELOPER_KEY = 'yourkey' #'INSERT_DEVELOPER_KEY_HERE'\n",
        "\n",
        "# The client secrets file can be downloaded from the Google Cloud Console.\n",
        "CLIENT_SECRETS_FILE = 'adh-key.json' #'Make sure you have correctly renamed this file and you have uploaded it in this colab'\n"
      ],
      "execution_count": null,
      "outputs": []
    },
    {
      "cell_type": "markdown",
      "metadata": {
        "id": "G5VOgVBPnC-a"
      },
      "source": [
        "## Install Dependencies"
      ]
    },
    {
      "cell_type": "code",
      "metadata": {
        "id": "WL4ZDkpsnJdF"
      },
      "source": [
        "import json\n",
        "import sys\n",
        "import argparse\n",
        "import pprint\n",
        "import random\n",
        "import datetime\n",
        "import pandas as pd\n",
        "import plotly.plotly as py\n",
        "import plotly.graph_objs as go\n",
        "\n",
        "from google_auth_oauthlib.flow import InstalledAppFlow\n",
        "from googleapiclient import discovery\n",
        "from oauthlib.oauth2.rfc6749.errors import InvalidGrantError\n",
        "from google.auth.transport.requests import AuthorizedSession\n",
        "from google.auth.transport.requests import Request\n",
        "from google.oauth2.credentials import Credentials\n",
        "from plotly.offline import iplot\n",
        "from plotly.graph_objs import Contours, Histogram2dContour, Marker, Scatter\n",
        "from googleapiclient.errors import HttpError"
      ],
      "execution_count": null,
      "outputs": []
    },
    {
      "cell_type": "code",
      "metadata": {
        "id": "fAeildw1tcJ7"
      },
      "source": [
        "from google.colab import auth\n",
        "auth.authenticate_user()\n",
        "print('Authenticated')"
      ],
      "execution_count": null,
      "outputs": []
    },
    {
      "cell_type": "markdown",
      "metadata": {
        "id": "455Iyw1NoPZQ"
      },
      "source": [
        "## Define function to enable charting library"
      ]
    },
    {
      "cell_type": "code",
      "metadata": {
        "id": "lzlStz-voTh_"
      },
      "source": [
        "# Allow plot images to be displayed\n",
        "%matplotlib inline\n",
        "\n",
        "# Functions\n",
        "def enable_plotly_in_cell():\n",
        "    import IPython\n",
        "    from plotly.offline import init_notebook_mode\n",
        "    display(IPython.core.display.HTML('''\n",
        "          <script src=\"/static/components/requirejs/require.js\"></script>\n",
        "    '''))\n",
        "    init_notebook_mode(connected=False)"
      ],
      "execution_count": null,
      "outputs": []
    },
    {
      "cell_type": "markdown",
      "metadata": {
        "id": "11uKHm8InMpc"
      },
      "source": [
        "## Authenticate against the ADH API\n",
        "\n",
        "[ADH documentation](https://developers.google.com/ads-data-hub/)"
      ]
    },
    {
      "cell_type": "code",
      "metadata": {
        "id": "A5cmabW0oOCM"
      },
      "source": [
        "#!/usr/bin/python\n",
        "#\n",
        "# Copyright 2017 Google Inc. All Rights Reserved.\n",
        "#\n",
        "# Licensed under the Apache License, Version 2.0 (the \"License\");\n",
        "# you may not use this file except in compliance with the License.\n",
        "# You may obtain a copy of the License at\n",
        "#\n",
        "#      http://www.apache.org/licenses/LICENSE-2.0\n",
        "#\n",
        "# Unless required by applicable law or agreed to in writing, software\n",
        "# distributed under the License is distributed on an \"AS IS\" BASIS,\n",
        "# WITHOUT WARRANTIES OR CONDITIONS OF ANY KIND, either express or implied.\n",
        "# See the License for the specific language governing permissions and\n",
        "# limitations under the License.\n",
        "\n",
        "\"\"\"Utilities used to step through OAuth 2.0 flow.\n",
        "\n",
        "These are intended to be used for stepping through samples for the Full Circle\n",
        "Query v2 API.\n",
        "\"\"\"\n",
        "\n",
        "_APPLICATION_NAME = 'ADH Campaign Overlap'\n",
        "_CREDENTIALS_FILE = 'fcq-credentials.json'\n",
        "_SCOPES = 'https://www.googleapis.com/auth/adsdatahub' \n",
        "_DISCOVERY_URL_TEMPLATE = 'https://%s/$discovery/rest?version=%s&key=%s'\n",
        "_FCQ_DISCOVERY_FILE = 'fcq-discovery.json'\n",
        "_FCQ_SERVICE = 'adsdatahub.googleapis.com'\n",
        "_FCQ_VERSION = 'v1'\n",
        "_REDIRECT_URI = 'urn:ietf:wg:oauth:2.0:oob'\n",
        "_SCOPE = ['https://www.googleapis.com/auth/adsdatahub']\n",
        "_TOKEN_URI = 'https://accounts.google.com/o/oauth2/token'\n",
        "\n",
        "MAX_PAGE_SIZE = 50\n",
        "\n",
        "\n",
        "def _GetCredentialsFromInstalledApplicationFlow():\n",
        "  \"\"\"Get new credentials using the installed application flow.\"\"\"\n",
        "  flow = InstalledAppFlow.from_client_secrets_file(\n",
        "      CLIENT_SECRETS_FILE, scopes=_SCOPE)\n",
        "  flow.redirect_uri = _REDIRECT_URI  # Set the redirect URI used for the flow.\n",
        "\n",
        "  auth_url, _ = flow.authorization_url(prompt='consent')\n",
        "\n",
        "  print ('Log into the Google Account you use to access the adsdatahub Query '\n",
        "         'v1 API and go to the following URL:\\n%s\\n' % auth_url)\n",
        "  print 'After approving the token, enter the verification code (if specified).'\n",
        "  code = raw_input('Code: ')\n",
        "\n",
        "  try:\n",
        "    flow.fetch_token(code=code)\n",
        "  except InvalidGrantError as ex:\n",
        "    print 'Authentication has failed: %s' % ex\n",
        "    sys.exit(1)\n",
        "\n",
        "  credentials = flow.credentials\n",
        "  _SaveCredentials(credentials)\n",
        "  return credentials\n",
        "\n",
        "\n",
        "def _LoadCredentials():\n",
        "  \"\"\"Loads and instantiates Credentials from JSON credentials file.\"\"\"\n",
        "  with open(_CREDENTIALS_FILE, 'rb') as handler:\n",
        "    stored_creds = json.loads(handler.read())\n",
        "\n",
        "  creds = Credentials(client_id=stored_creds['client_id'],\n",
        "                      client_secret=stored_creds['client_secret'],\n",
        "                      token=None,\n",
        "                      refresh_token=stored_creds['refresh_token'],\n",
        "                      token_uri=_TOKEN_URI)\n",
        "\n",
        "  return creds\n",
        "\n",
        "\n",
        "def _SaveCredentials(creds):\n",
        "  \"\"\"Save credentials to JSON file.\"\"\"\n",
        "  stored_creds = {\n",
        "      'client_id': getattr(creds, '_client_id'),\n",
        "      'client_secret': getattr(creds, '_client_secret'),\n",
        "      'refresh_token': getattr(creds, '_refresh_token')\n",
        "  }\n",
        "\n",
        "  with open(_CREDENTIALS_FILE, 'wb') as handler:\n",
        "    handler.write(json.dumps(stored_creds))\n",
        "\n",
        "\n",
        "def GetCredentials():\n",
        "  \"\"\"Get stored credentials if they exist, otherwise return new credentials.\n",
        "\n",
        "  If no stored credentials are found, new credentials will be produced by\n",
        "  stepping through the Installed Application OAuth 2.0 flow with the specified\n",
        "  client secrets file. The credentials will then be saved for future use.\n",
        "\n",
        "  Returns:\n",
        "    A configured google.oauth2.credentials.Credentials instance.\n",
        "  \"\"\"\n",
        "  try:\n",
        "    creds = _LoadCredentials()\n",
        "    creds.refresh(Request())\n",
        "  except IOError:\n",
        "    creds = _GetCredentialsFromInstalledApplicationFlow()\n",
        "\n",
        "  return creds\n",
        "\n",
        "\n",
        "def GetDiscoveryDocument():\n",
        "  \"\"\"Downloads the adsdatahub v1 discovery document.\n",
        "\n",
        "  Downloads the adsdatahub v1 discovery document to fcq-discovery.json\n",
        "  if it is accessible. If the file already exists, it will be overwritten.\n",
        "\n",
        "  Raises:\n",
        "    ValueError: raised if the discovery document is inaccessible for any reason.\n",
        "  \"\"\"\n",
        "  credentials = GetCredentials()\n",
        "  discovery_url = _DISCOVERY_URL_TEMPLATE % (\n",
        "      _FCQ_SERVICE, _FCQ_VERSION, DEVELOPER_KEY)\n",
        "\n",
        "  auth_session = AuthorizedSession(credentials)\n",
        "\n",
        "  discovery_response = auth_session.get(discovery_url)\n",
        "\n",
        "  if discovery_response.status_code == 200:\n",
        "    with open(_FCQ_DISCOVERY_FILE, 'wb') as handler:\n",
        "      handler.write(discovery_response.text)\n",
        "  else:\n",
        "    raise ValueError('Unable to retrieve discovery document for api name \"%s\"'\n",
        "                     'and version \"%s\" via discovery URL: %s'\n",
        "                     % _FCQ_SERVICE, _FCQ_VERSION, discovery_url)\n",
        "\n",
        "\n",
        "def GetService():\n",
        "  \"\"\"Builds a configured adsdatahub v1 API service.\n",
        "\n",
        "  Returns:\n",
        "    A googleapiclient.discovery.Resource instance configured for the adsdatahub v1 service.\n",
        "  \"\"\"\n",
        "  credentials = GetCredentials()\n",
        "  discovery_url = _DISCOVERY_URL_TEMPLATE % (\n",
        "      _FCQ_SERVICE, _FCQ_VERSION, DEVELOPER_KEY)\n",
        "\n",
        "  service = discovery.build(\n",
        "      'adsdatahub', _FCQ_VERSION, credentials=credentials,\n",
        "      discoveryServiceUrl=discovery_url)\n",
        "  return service\n",
        "\n",
        "\n",
        "def GetServiceFromDiscoveryDocument():\n",
        "  \"\"\"Builds a configured Full Circle Query v2 API service via discovery file.\n",
        "\n",
        "  Returns:\n",
        "    A googleapiclient.discovery.Resource instance configured for the Full Circle\n",
        "      Query API v2 service.\n",
        "  \"\"\"\n",
        "  credentials = GetCredentials()\n",
        "\n",
        "  with open(_FCQ_DISCOVERY_FILE, 'rb') as handler:\n",
        "    discovery_doc = handler.read()\n",
        "\n",
        "  service = discovery.build_from_document(\n",
        "      service=discovery_doc, credentials=credentials)\n",
        "\n",
        "  return service\n",
        "\n",
        "try:\n",
        "  full_circle_query = GetService()\n",
        "except IOError as ex:\n",
        "  print ('Unable to create ads data hub service - %s' % ex)\n",
        "  print ('Did you specify the client secrets file in samples_util.py?')\n",
        "  sys.exit(1)\n",
        "\n",
        "try:\n",
        "  # Execute the request.\n",
        "  response = full_circle_query.customers().list().execute()\n",
        "except HttpError as e:\n",
        "  print (e)\n",
        "  sys.exit(1)\n",
        "\n",
        "if 'customers' in response:\n",
        "  print ('ADH API Returned {} Ads Data Hub customers for the current user!'.format(len(response['customers'])))\n",
        "  for customer in response['customers']:\n",
        "    print(json.dumps(customer))\n",
        "else:\n",
        "  print ('No customers found for current user.')\n"
      ],
      "execution_count": null,
      "outputs": []
    },
    {
      "cell_type": "markdown",
      "metadata": {
        "id": "bkSydQkR2uxI"
      },
      "source": [
        "# Frequency Analysis \n",
        "\n",
        "<b>Purpose:</b> This tool should be used to guide you defining an optimal frequency cap considering the CTR curve. Due to that it is more useful in awareness use cases.\n",
        "\n",
        "**Key notes**\n",
        "\n",
        "*   For some campaings the user ID will be <b>zeroed</b> (e.g. Googel Data, ITP browsers and YouTube Data), therefore <b>excluded</b> from the analysis. For more information click <a href=\"https://support.google.com/dcm/answer/9006418\" > here</a>;\n",
        "*   It will be only included in the analysis campaigns which clicks and impressions were tracked.\n",
        "\n",
        "**Instructions**\n",
        "*   First of all: <b>MAKE A COPY</b> =);\n",
        "*   Fulfill the query parameters in the Box 1;\n",
        "*   In the menu above click in Runtime > Run All;\n",
        "*   Authorize your credentials;\n",
        "*   Go to the end of the colab and your figures will be ready;\n",
        "*   After defining what should be the optimal frequency cap fill it in the Box 2 and press play."
      ]
    },
    {
      "cell_type": "markdown",
      "metadata": {
        "id": "jrfiy_KXtjgM"
      },
      "source": [
        "### Step 1 - Instructions - Defining parameters to find the optimal frequency\n",
        "\n",
        "*  <b>max_freq:</b> Stands for the amount of frequency you want to plot the graphics (e.g. if you put 50, you will look for impressions that was shown up to 50 times for users);\n",
        "*  <b>id_type:</b> How do you want to filter your data (if you don't want to filter leave it blank);\n",
        "*  <b>IDs:</b> Accordingly to the id_type chosen before, fill in this field following this patterns: 'id-1111', 'id-2222', ...\n"
      ]
    },
    {
      "cell_type": "code",
      "metadata": {
        "id": "4PyQMn6jtYK_",
        "cellView": "form"
      },
      "source": [
        "#@title Define ADH configuration parameters\n",
        "customer_id = 000000001 #@param\n",
        "dataset_id = 000000001 #@param\n",
        "query_name = \"query_name\" #@param {type:\"string\"}\n",
        "big_query_project = 'bq_project_id' #@param Destination Project ID {type:\"string\"}\n",
        "big_query_dataset = 'dataset_name' #@param Destination Dataset {type:\"string\"}\n",
        "big_query_destination_table = 'table_name' #@param Destination Table {type:\"string\"}\n",
        "start_date = '2019-09-01' #@param {type:\"date\", allow-input: true}\n",
        "end_date = '2019-09-30' #@param {type:\"date\", allow-input: true}\n",
        "max_freq = 100 #@param {type:\"integer\", allow-input: true}\n",
        "cpm = 5 #@param {type:\"number\", allow-input: true}\n",
        "id_type = \"campaign_id\" #@param [\"\", \"advertiser_id\", \"campaign_id\", \"placement_id\", \"ad_id\"] {type: \"string\", allow-input: false}\n",
        "IDs = \"\" #@param {type: \"string\", allow-input: true}"
      ],
      "execution_count": null,
      "outputs": []
    },
    {
      "cell_type": "markdown",
      "metadata": {
        "id": "8WUx4G1P9Zvs"
      },
      "source": [
        "### Step 2 - Create a function for the final calculations"
      ]
    },
    {
      "cell_type": "markdown",
      "metadata": {
        "id": "nUxdMJ0wkyDF"
      },
      "source": [
        "From DT data Calculate metrics using pandas \n",
        "Pass through the pandas dataframe when you call this function "
      ]
    },
    {
      "cell_type": "code",
      "metadata": {
        "id": "s7dthZhfkwME"
      },
      "source": [
        "\n",
        "def df_calc_fields(df):\n",
        "\n",
        "    df['ctr'] = df.clicks / df.impressions\n",
        "    df['cost'] = (df.impressions / 1000 ) * cpm\n",
        "    df['cpc'] = df.cost / df.clicks\n",
        "    df['cumulative_clicks'] = df.clicks.cumsum()\n",
        "    df['cumulative_impressions'] = df.impressions.cumsum()\n",
        "    df['cumulative_reach'] = df.reach.cumsum()\n",
        "    df['cumulative_cost'] = df.cost.cumsum()\n",
        "    df['coverage_clicks'] = df.cumulative_clicks / df.clicks.sum()\n",
        "    df['coverage_impressions'] = df.cumulative_impressions / df.impressions.sum()\n",
        "    df['coverage_reach'] = df.cumulative_reach / df.reach.sum()\n",
        "\n",
        "    return df"
      ],
      "execution_count": null,
      "outputs": []
    },
    {
      "cell_type": "markdown",
      "metadata": {
        "id": "8Ip-zHUvlX54"
      },
      "source": [
        "### Step 3 - Build the query"
      ]
    },
    {
      "cell_type": "markdown",
      "metadata": {
        "id": "OCIoCRXoqPiJ"
      },
      "source": [
        "Set up the vairables"
      ]
    },
    {
      "cell_type": "code",
      "metadata": {
        "id": "QjAA6t-aqP-L"
      },
      "source": [
        "# Build the query\n",
        "\n",
        "dc = {}\n",
        "\n",
        "\n",
        "if (IDs == \"\"):\n",
        "  dc['ID_filters'] = \"\"\n",
        "\n",
        "else:\n",
        "  dc['id_type'] = id_type\n",
        "  dc['IDs'] = IDs\n",
        "  dc['ID_filters'] = '''AND event.{id_type} IN ({IDs})'''.format(**dc)"
      ],
      "execution_count": null,
      "outputs": []
    },
    {
      "cell_type": "markdown",
      "metadata": {
        "id": "SjjTaVx6MYF3"
      },
      "source": [
        "Part 1 - Find all impressions from the impression table: \n",
        "* Select all user IDs from the impression table\n",
        "* Select the event_time\n",
        "* Mark the interaction type as 'imp' for all of these rows\n",
        "* Filter for the dates set in Step 1 using the partition files to reduce bigQuery costs by only searching in files within a 2 day interval of the set date range\n",
        "* Filter out any user IDs that are 0\n",
        "* If specific ID filters were applied in Step 1 filter the data for those IDs"
      ]
    },
    {
      "cell_type": "code",
      "metadata": {
        "id": "HlDTR9bbHF_4"
      },
      "source": [
        "q1 = \"\"\"\n",
        "    WITH\n",
        "    imp_u_clicks AS (\n",
        "    SELECT\n",
        "        User_ID,\n",
        "        event.event_time AS interaction_time,\n",
        "        'imp' AS interaction_type\n",
        "    FROM\n",
        "        adh.cm_dt_impressions\n",
        "    WHERE\n",
        "        user_id != '0'\n",
        "        {ID_filters}\n",
        "\"\"\""
      ],
      "execution_count": null,
      "outputs": []
    },
    {
      "cell_type": "markdown",
      "metadata": {
        "id": "bsMyLQxLNPKj"
      },
      "source": [
        "Part 2 - Find all clicks from the clicks table: \n",
        "\n",
        "* Select all User IDs from the click table\n",
        "* Select the event_time\n",
        "* Mark the interaction type as 'click' for all of these rows\n",
        "* Filter for the dates set in Step 1 using the partition files to reduce BigQuery costs by only searching in files within a 2 day interval of the set date range\n",
        "* If specific ID filters were applied in Step 2 filter the data for those IDs \n",
        "* **Use a union to create a single table with both impressions and clicks**\n"
      ]
    },
    {
      "cell_type": "code",
      "metadata": {
        "id": "SFnrJhw-HGkK"
      },
      "source": [
        "q2 = \"\"\"\n",
        "    UNION ALL (\n",
        "        SELECT\n",
        "          User_ID,\n",
        "          event.event_time AS interaction_time,\n",
        "          'click' AS interaction_type\n",
        "        FROM\n",
        "          adh.cm_dt_clicks\n",
        "        WHERE\n",
        "           user_id != '0'\n",
        "          {ID_filters} ) ),\n",
        "\"\"\""
      ],
      "execution_count": null,
      "outputs": []
    },
    {
      "cell_type": "markdown",
      "metadata": {
        "id": "xep4VHw1cUQk"
      },
      "source": [
        "output example: "
      ]
    },
    {
      "cell_type": "markdown",
      "metadata": {
        "id": "qk_5oRcXbOOd"
      },
      "source": [
        "<table>\n",
        "  <tr>\n",
        "    <th>USER_ID</th>\n",
        "    <th>interaction_time</th> \n",
        "    <th>interaction_type</th>\n",
        "  </tr>\n",
        "  <tr>\n",
        "    <td>001</td>\n",
        "    <td>timestamp</td> \n",
        "    <td>impression</td>\n",
        "  </tr>\n",
        "  <tr>\n",
        "    <td>001</td>\n",
        "    <td>timestamp</td> \n",
        "    <td>impression</td>\n",
        "  </tr>\n",
        "    <tr>\n",
        "    <td>001</td>\n",
        "    <td>timestamp</td> \n",
        "    <td>click</td>\n",
        "  </tr>\n",
        "    <tr>\n",
        "    <td>002</td>\n",
        "    <td>timestamp</td> \n",
        "    <td>impression</td>\n",
        "  </tr>\n",
        "    </tr>\n",
        "    <tr>\n",
        "    <td>002</td>\n",
        "    <td>timestamp</td> \n",
        "    <td>click</td>\n",
        "  </tr>\n",
        "    </tr>\n",
        "    <tr>\n",
        "    <td>003</td>\n",
        "    <td>timestamp</td> \n",
        "    <td>impression</td>\n",
        "  </tr>\n",
        "    <tr>\n",
        "    <td>001</td>\n",
        "    <td>timestamp</td> \n",
        "    <td>impression</td>\n",
        "  </tr>\n",
        "</table>"
      ]
    },
    {
      "cell_type": "markdown",
      "metadata": {
        "id": "qxNSjmfkRRh0"
      },
      "source": [
        "Part 3 - Calculate impressions and clicks per user: \n",
        "\n",
        "* For each user, calculate the number of impressions and clicks using the table created in Part 1 and 2 "
      ]
    },
    {
      "cell_type": "code",
      "metadata": {
        "id": "EjK_g27IHKx1"
      },
      "source": [
        "q3 = \"\"\"        \n",
        "    user_level_data AS (\n",
        "    SELECT\n",
        "        user_id,\n",
        "        SUM(IF(interaction_type = 'imp',\n",
        "            1,\n",
        "            0)) AS impressions,\n",
        "        SUM(IF(interaction_type = 'click',\n",
        "            1,\n",
        "            0)) AS clicks\n",
        "    FROM\n",
        "        imp_u_clicks\n",
        "    GROUP BY\n",
        "        user_id)\n",
        "\n",
        "\"\"\""
      ],
      "execution_count": null,
      "outputs": []
    },
    {
      "cell_type": "markdown",
      "metadata": {
        "id": "7bft6xcidEh9"
      },
      "source": [
        "output example: "
      ]
    },
    {
      "cell_type": "markdown",
      "metadata": {
        "id": "4n7CW_wWdIfi"
      },
      "source": [
        "<table>\n",
        "  <tr>\n",
        "    <th>USER_ID</th>\n",
        "    <th>impressions</th> \n",
        "    <th>clicks</th>\n",
        "  </tr>\n",
        "  <tr>\n",
        "    <td>001</td>\n",
        "    <td>3</td> \n",
        "    <td>1</td>\n",
        "  </tr>\n",
        "    <tr>\n",
        "    <td>002</td>\n",
        "    <td>1</td> \n",
        "    <td>1</td>\n",
        "  </tr>\n",
        "      <tr>\n",
        "    <td>003</td>\n",
        "    <td>1</td> \n",
        "    <td>0</td>\n",
        "  </tr>\n",
        "  \n",
        "</table>"
      ]
    },
    {
      "cell_type": "markdown",
      "metadata": {
        "id": "eBOXyt83SH12"
      },
      "source": [
        "Part 4 - Calculate metrics per frequency: \n",
        "\n",
        "* Use the table created in Part 3 with metrics at user level to calculate metrics per each frequency\n",
        "* Frequency: The number of impressions served to each user\n",
        "* Clicks: The sum of clicks that occured at each frequency\n",
        "* Impressions: The sum of all impressions that occured at each frequency \n",
        "* Reach: The total number of unique users (the count of all user ids) \n",
        "* Group by Frequency"
      ]
    },
    {
      "cell_type": "code",
      "metadata": {
        "id": "3Lrm-xMqHL98"
      },
      "source": [
        "q4 = \"\"\"\n",
        "    SELECT\n",
        "    impressions AS frequency,\n",
        "    SUM(clicks) AS clicks,\n",
        "    SUM(impressions) AS impressions,\n",
        "    COUNT(*) AS reach\n",
        "    FROM\n",
        "    user_level_data\n",
        "    GROUP BY\n",
        "    1\n",
        "\n",
        "    ORDER BY\n",
        "    frequency ASC\n",
        "\"\"\""
      ],
      "execution_count": null,
      "outputs": []
    },
    {
      "cell_type": "markdown",
      "metadata": {
        "id": "7Hmre9K2doN_"
      },
      "source": [
        "output example: "
      ]
    },
    {
      "cell_type": "markdown",
      "metadata": {
        "id": "fwBrD0aRdo64"
      },
      "source": [
        "<table>\n",
        "  <tr>\n",
        "    <th>frequency</th>\n",
        "    <th>clicks</th> \n",
        "    <th>impression</th>\n",
        "    <th>reach</th>\n",
        "  </tr>\n",
        "  <tr>\n",
        "    <td>1</td>\n",
        "    <td>1</td> \n",
        "    <td>2</td>\n",
        "     <td>2</td>\n",
        "  </tr>\n",
        " <tr>\n",
        "    <td>2</td>\n",
        "    <td>0</td> \n",
        "    <td>0</td>\n",
        "     <td>0</td>\n",
        "  </tr>\n",
        "   <tr>\n",
        "    <td>3</td>\n",
        "    <td>1</td> \n",
        "    <td>3</td>\n",
        "     <td>1</td>\n",
        "  </tr>\n",
        "  \n",
        "</table>"
      ]
    },
    {
      "cell_type": "markdown",
      "metadata": {
        "id": "SzydF5ASTli8"
      },
      "source": [
        "Join the query and use pythons format method to pass in your parameters set in step 1 "
      ]
    },
    {
      "cell_type": "code",
      "metadata": {
        "id": "3MdvTq-KHsDq"
      },
      "source": [
        "query_text = (q1 + q2 + q3 + q4).format(**dc)\n",
        "print(query_text)  "
      ],
      "execution_count": null,
      "outputs": []
    },
    {
      "cell_type": "markdown",
      "metadata": {
        "id": "a0fhtcvstUHV"
      },
      "source": [
        "Create the query required for ADH \n",
        "* When working with ADH the standard BigQuery query needs to be adapted to run in ADH\n",
        "* This can be done bia the API"
      ]
    },
    {
      "cell_type": "code",
      "metadata": {
        "id": "G9aHDJaZtSeb"
      },
      "source": [
        "\n",
        "try:\n",
        "  full_circle_query = GetService()\n",
        "except IOError, ex:\n",
        "  print 'Unable to create ads data hub service - %s' % ex\n",
        "  print 'Did you specify the client secrets file?'\n",
        "  sys.exit(1)\n",
        "\n",
        "\n",
        "\n",
        "query_create_body = {\n",
        "        'name': query_name,\n",
        "        'title': query_name,\n",
        "        'queryText': query_text\n",
        "}\n",
        "\n",
        "try:\n",
        "  # Execute the request.\n",
        "  new_query = full_circle_query.customers().analysisQueries().create(body=query_create_body, parent='customers/' + str(customer_id)).execute()\n",
        "  new_query_name = new_query[\"name\"]\n",
        "except HttpError as e:\n",
        "  print e\n",
        "  sys.exit(1)\n",
        "\n",
        "print 'New query %s created for customer ID \"%s\":' % (new_query_name, customer_id)\n",
        "print(json.dumps(new_query))"
      ],
      "execution_count": null,
      "outputs": []
    },
    {
      "cell_type": "markdown",
      "metadata": {
        "id": "UwB0I0uwT1YE"
      },
      "source": [
        "#### Full Query"
      ]
    },
    {
      "cell_type": "code",
      "metadata": {
        "id": "PmHIwpowT6It"
      },
      "source": [
        "# Build the query\n",
        "\n",
        "dc = {}\n",
        "\n",
        "\n",
        "if (IDs == \"\"):\n",
        "  dc['ID_filters'] = \"\"\n",
        "\n",
        "else:\n",
        "  dc['id_type'] = id_type\n",
        "  dc['IDs'] = IDs\n",
        "  dc['ID_filters'] = '''AND event.{id_type} IN ({IDs})'''.format(**dc)\n",
        "\n",
        "query_text = \"\"\"\n",
        "    WITH\n",
        "    imp_u_clicks AS (\n",
        "    SELECT\n",
        "        User_ID,\n",
        "        event.event_time AS interaction_time,\n",
        "        'imp' AS interaction_type\n",
        "    FROM\n",
        "        adh.cm_dt_impressions\n",
        "    WHERE\n",
        "        user_id != '0'\n",
        "        {ID_filters}\n",
        "\n",
        "\n",
        "    UNION ALL (\n",
        "        SELECT\n",
        "        User_ID,\n",
        "        event.event_time AS interaction_time,\n",
        "        'click' AS interaction_type\n",
        "        FROM\n",
        "          adh.cm_dt_clicks\n",
        "        WHERE\n",
        "        user_id != '0'\n",
        "        {ID_filters} ) ),\n",
        "        \n",
        "    user_level_data AS (\n",
        "    SELECT\n",
        "        user_id,\n",
        "        SUM(IF(interaction_type = 'imp',\n",
        "            1,\n",
        "            0)) AS impressions,\n",
        "        SUM(IF(interaction_type = 'click',\n",
        "            1,\n",
        "            0)) AS clicks\n",
        "    FROM\n",
        "        imp_u_clicks\n",
        "    GROUP BY\n",
        "        user_id)\n",
        "\n",
        "\n",
        "    SELECT\n",
        "    impressions AS frequency,\n",
        "    SUM(clicks) AS clicks,\n",
        "    SUM(impressions) AS impressions,\n",
        "    COUNT(*) AS reach\n",
        "    FROM\n",
        "    user_level_data\n",
        "    GROUP BY\n",
        "    1\n",
        "\n",
        "    ORDER BY\n",
        "    frequency ASC\n",
        "\n",
        "\"\"\".format(**dc)\n",
        "print(query_text)  \n",
        "\n",
        "try:\n",
        "  full_circle_query = GetService()\n",
        "except IOError, ex:\n",
        "  print 'Unable to create ads data hub service - %s' % ex\n",
        "  print 'Did you specify the client secrets file?'\n",
        "  sys.exit(1)\n",
        "\n",
        "\n",
        "query_create_body = {\n",
        "        'name': query_name,\n",
        "        'title': query_name,\n",
        "        'queryText': query_text\n",
        "}\n",
        "\n",
        "try:\n",
        "  # Execute the request.\n",
        "  new_query = full_circle_query.customers().analysisQueries().create(body=query_create_body, parent='customers/'+ str(customer_id)).execute()\n",
        "  new_query_name = new_query[\"name\"]\n",
        "except HttpError as e:\n",
        "  print e\n",
        "  sys.exit(1)\n",
        "\n",
        "print 'New query %s for customer ID \"%s\":' % (new_query_name, customer_id)\n",
        "print(json.dumps(new_query))"
      ],
      "execution_count": null,
      "outputs": []
    },
    {
      "cell_type": "markdown",
      "metadata": {
        "id": "p7fNC7SPqqq6"
      },
      "source": [
        "#### Check your query exists\n",
        "\n",
        "https://adsdatahub.google.com/u/0/#/jobs\n",
        "\n",
        "1.   Find your query in the my queries tab\n",
        "2.   Check and ensure your query is valid (there will be a green tick in the top right corner)\n",
        "3. If your query is not valid hover over the red exclamation mark to see issues that need to be resolved\n"
      ]
    },
    {
      "cell_type": "markdown",
      "metadata": {
        "id": "ifk77qve9mwr"
      },
      "source": [
        "### Step 4 - Run the query"
      ]
    },
    {
      "cell_type": "markdown",
      "metadata": {
        "id": "Ir7z8UA6lrKO"
      },
      "source": [
        "#### Start the query\n",
        "\n",
        "* Pass the query in to ADH using the full_circle_query method set at the start\n",
        "* Pass in the dates, the destination table name in BigQuery and the customer ID"
      ]
    },
    {
      "cell_type": "code",
      "metadata": {
        "id": "1qIRjLOaRB42",
        "cellView": "both"
      },
      "source": [
        "destination_table_full_path = big_query_project + '.' + big_query_dataset + '.' + big_query_destination_table\n",
        "\n",
        "CUSTOMER_ID = customer_id\n",
        "DATASET_ID = dataset_id\n",
        "QUERY_NAME = query_name\n",
        "DEST_TABLE = destination_table_full_path\n",
        "\n",
        "#Dates\n",
        "format_str = '%Y-%m-%d' # The format\n",
        "start_date_obj = datetime.datetime.strptime(start_date, format_str)\n",
        "end_date_obj = datetime.datetime.strptime(end_date, format_str)\n",
        "\n",
        "START_DATE = {\n",
        "  \"year\": start_date_obj.year,\n",
        "  \"month\": start_date_obj.month,\n",
        "  \"day\": start_date_obj.day\n",
        "}\n",
        "END_DATE = {\n",
        "  \"year\": end_date_obj.year,\n",
        "  \"month\": end_date_obj.month,\n",
        "  \"day\": end_date_obj.day\n",
        "}\n",
        "\n",
        "try:\n",
        "  full_circle_query = GetService()\n",
        "except IOError, ex:\n",
        "  print('Unable to create ads data hub service - %s' % ex)\n",
        "  print('Did you specify the client secrets file?')\n",
        "  sys.exit(1)\n",
        "\n",
        "query_start_body = {\n",
        "  'spec': {\n",
        "      'startDate': START_DATE,\n",
        "      'endDate': END_DATE,\n",
        "      'adsDataCustomerId': DATASET_ID\n",
        "        },\n",
        "  'destTable': DEST_TABLE,\n",
        "  'customerId': CUSTOMER_ID\n",
        "}\n",
        "\n",
        "try:\n",
        "  # Execute the request.\n",
        "  operation = full_circle_query.customers().analysisQueries().start(body=query_start_body, name=new_query_name).execute()\n",
        "\n",
        "except HttpError as e:\n",
        "  print(e)\n",
        "  sys.exit(1)\n",
        "\n",
        "print('Running query with name \"%s\" via the following operation:' % query_name)\n",
        "print(json.dumps(operation))\n"
      ],
      "execution_count": null,
      "outputs": []
    },
    {
      "cell_type": "markdown",
      "metadata": {
        "id": "PhovSChjq2wS"
      },
      "source": [
        "#### Retrieve the results from BigQuery"
      ]
    },
    {
      "cell_type": "markdown",
      "metadata": {
        "id": "5lC_5NmTrT1A"
      },
      "source": [
        "Check to make sure the query has finished running and is saved in the new BigQuery TAble \n",
        "When it is done we cane retrieve it"
      ]
    },
    {
      "cell_type": "code",
      "metadata": {
        "id": "CjUjzEVqq3KK"
      },
      "source": [
        "import time\n",
        "statusDone = False\n",
        "\n",
        "while statusDone is False:\n",
        "  print(\"waiting for the job to complete...\")\n",
        "  updatedOperation = full_circle_query.operations().get(name=operation['name']).execute()\n",
        "  if updatedOperation.has_key('done') and updatedOperation['done'] == True:\n",
        "    statusDone = True\n",
        "  time.sleep(5)\n",
        "\n",
        "print(\"Job completed... Getting results\")\n",
        "#run bigQuery query\n",
        "dc = {}\n",
        "dc['table'] = big_query_dataset + '.' + big_query_destination_table\n",
        "q1 = '''\n",
        "select * from {table} \n",
        "  '''.format(**dc)"
      ],
      "execution_count": null,
      "outputs": []
    },
    {
      "cell_type": "markdown",
      "metadata": {
        "id": "IoQVkQzB1DU2"
      },
      "source": [
        "\n",
        "We are using the pandas library to run the query. \n",
        "\n",
        "We pass in the query (q), the project id and set the SQL language to 'standard' (as opposed to legacy SQL)"
      ]
    },
    {
      "cell_type": "code",
      "metadata": {
        "id": "lwJZn_POrTeJ"
      },
      "source": [
        "# Run query as save as a table (also known as dataframe)\n",
        "df = pd.io.gbq.read_gbq(q1, project_id=big_query_project, dialect='standard', reauth=True)\n",
        "print(df)\n"
      ],
      "execution_count": null,
      "outputs": []
    },
    {
      "cell_type": "markdown",
      "metadata": {
        "id": "uysCGKsLlwtv"
      },
      "source": [
        "Save the output as a CSV"
      ]
    },
    {
      "cell_type": "code",
      "metadata": {
        "id": "04-sh3296yEH"
      },
      "source": [
        "# Save the original dataframe as a csv file in case you need to recover the original data\n",
        "df.to_csv('base_final_user.csv', index=False)"
      ],
      "execution_count": null,
      "outputs": []
    },
    {
      "cell_type": "markdown",
      "metadata": {
        "id": "0j73EL_79trN"
      },
      "source": [
        "## Step 6 - Set up the data and all the charts that will be plotted"
      ]
    },
    {
      "cell_type": "markdown",
      "metadata": {
        "id": "nvKr1GSY-fb9"
      },
      "source": [
        "### 6.1 Transform data\n",
        " Use the calculation function created to calculate all the values based off your data"
      ]
    },
    {
      "cell_type": "code",
      "metadata": {
        "id": "RrkbvqK8AYEq"
      },
      "source": [
        "df = df[1:max_freq+1] # Reduces the dataframe to have the size you set as the maximum frequency (max_freq)\n",
        "df = df_calc_fields(df)\n",
        "df2=df.copy() # Copy the dataframe you calculated the fields in case you need to recover it\n",
        "graphs = [] # Variable to save all graphics"
      ],
      "execution_count": null,
      "outputs": []
    },
    {
      "cell_type": "markdown",
      "metadata": {
        "id": "OzHigOae2Xy8"
      },
      "source": [
        "# Analysis 1: Frequency Analysis by user\n"
      ]
    },
    {
      "cell_type": "markdown",
      "metadata": {
        "id": "8vjKBTxe-rD9"
      },
      "source": [
        "### Step 1: Set up graphs"
      ]
    },
    {
      "cell_type": "code",
      "metadata": {
        "id": "Y6Z-XRfvjUuv"
      },
      "source": [
        "# Save all data into a list to plot the graphics\n",
        "\n",
        "impressions = dict(type='bar', x=df.frequency, y=df.impressions,\n",
        "                   name='impressions',\n",
        "                   marker=dict(color='rgb(0, 29, 255)',\n",
        "                   line=dict(width=1)))\n",
        "\n",
        "ctr = dict(\n",
        "    type='scatter',\n",
        "    x=df.frequency,\n",
        "    y=df.ctr,\n",
        "    name='ctr',\n",
        "    marker=dict(color='rgb(255, 148, 0)', line=dict(width=1)),\n",
        "    xaxis='x1',\n",
        "    yaxis='y2',\n",
        "    )\n",
        "\n",
        "layout = dict(\n",
        "    title='Impressions and CTR Comparison on Each Frequency',\n",
        "    autosize=True,\n",
        "    legend=dict(x=1.15, y=1),\n",
        "    hovermode='x',\n",
        "    xaxis=dict(tickangle=-45, autorange=True, tickfont=dict(size=10),\n",
        "               title='frequency', type='category'),\n",
        "    yaxis=dict(showgrid=True, title='impressions'),\n",
        "    yaxis2=dict(overlaying='y', anchor='x', side='right',\n",
        "                showgrid=False, title='ctr'),\n",
        "    )\n",
        "\n",
        "fig = dict(data=[impressions, ctr], layout=layout)\n",
        "graphs.append(fig)\n",
        "\n",
        "\n",
        "\t\t\t\n",
        "clicks = dict(type='bar',\n",
        "              x= df.frequency, \n",
        "              y= df.clicks, \n",
        "              name='Clicks',            \n",
        "              marker=dict(color= 'rgb(0, 29, 255)', line= dict(width= 1))\n",
        "  )\n",
        " \n",
        "ctr = dict(type='scatter',\n",
        "              x= df.frequency, \n",
        "              y= df.cpc, \n",
        "              name='cpc',            \n",
        "              marker=dict(color= 'rgb(255, 148, 0)', line= dict(width= 1)),\n",
        "              xaxis='x1',\n",
        "              yaxis='y2'\n",
        "              \n",
        "  )\n",
        "\n",
        "layout = dict(autosize= True, \n",
        "              title='Clicks and CPC Comparison on Each Frequency',                   \n",
        "              legend= dict(x= 1.15, \n",
        "                           y= 1\n",
        "                          ),\n",
        "              hovermode='x',\n",
        "              xaxis=dict(tickangle= -45, \n",
        "                         autorange=True,\n",
        "                         tickfont=dict(size= 10), \n",
        "                         title= 'frequency', \n",
        "                         type= 'category'\n",
        "                        ), \n",
        "\n",
        "              yaxis=dict(\n",
        "                         showgrid=True, \n",
        "                         title= 'clicks'\n",
        "                        ), \n",
        "              yaxis2=dict( \n",
        "                          overlaying= 'y', \n",
        "                          anchor= 'x', \n",
        "                          side= 'right', \n",
        "                          showgrid= False, \n",
        "                          title= 'cpc'\n",
        "                         )\n",
        "             )\n",
        "\n",
        "fig = dict(data=[clicks, ctr], layout=layout)\n",
        "graphs.append(fig)\n",
        "\n",
        "\n",
        "\n",
        "ctr = dict(type='scatter',\n",
        "              x= df.frequency, \n",
        "              y= df.ctr, \n",
        "              name='ctr',            \n",
        "              marker=dict(color= 'rgb(0, 29, 255)', line= dict(width= 1))\n",
        "  )\n",
        " \n",
        "cpc = dict(type='scatter',\n",
        "              x= df.frequency, \n",
        "              y= df.cpc, \n",
        "              name='cpc',            \n",
        "              marker=dict(color= 'rgb(255, 148, 0)', line= dict(width= 1)),\n",
        "              xaxis='x1',\n",
        "              yaxis='y2'\n",
        "              \n",
        "  )\n",
        "\n",
        "layout = dict(autosize= True, \n",
        "              title='CTR and CPC Comparison on Each Frequency',\n",
        "              legend= dict(x= 1.15, \n",
        "                           y= 1\n",
        "                          ),\n",
        "              hovermode='x',\n",
        "              xaxis=dict(tickangle= -45, \n",
        "                         autorange=True,\n",
        "                         tickfont=dict(size= 10), \n",
        "                         title= 'frequency', \n",
        "                         type= 'category',\n",
        "                         showgrid =False\n",
        "                        ), \n",
        "\n",
        "              yaxis=dict(\n",
        "                         showgrid=False, \n",
        "                         title= 'ctr'\n",
        "                        ), \n",
        "              yaxis2=dict( \n",
        "                          overlaying= 'y', \n",
        "                          anchor= 'x', \n",
        "                          side= 'right', \n",
        "                          showgrid= False, \n",
        "                          title= 'cpc'\n",
        "                         )\n",
        "             )\n",
        "\n",
        "fig = dict(data=[ctr, cpc], layout=layout)\n",
        "graphs.append(fig)\n",
        "\n",
        "\n",
        "\n",
        "pareto = dict(type='scatter',\n",
        "              x= df.frequency, \n",
        "              y= df.coverage_clicks, \n",
        "              name='Cumulative % Clicks',            \n",
        "              marker=dict(color= 'rgb(0, 29, 255)', line= dict(width= 1))\n",
        "  )\n",
        " \n",
        "cpc = dict(type='scatter',\n",
        "              x= df.frequency, \n",
        "              y= df.cpc, \n",
        "              name='cpc',            \n",
        "              marker=dict(color= 'rgb(255, 148, 0)', line= dict(width= 1)),\n",
        "              xaxis='x1',\n",
        "              yaxis='y2'\n",
        "              \n",
        "  )\n",
        "\n",
        "layout = dict(autosize= True, \n",
        "              title='Cumulative Clicks and CPC Comparison on Each Frequency',\n",
        "              legend= dict(x= 1.15, \n",
        "                           y= 1\n",
        "                          ),\n",
        "              hovermode='x',\n",
        "              xaxis=dict(tickangle= -45, \n",
        "                         autorange=True,\n",
        "                         tickfont=dict(size= 10), \n",
        "                         title= 'frequency', \n",
        "                         type= 'category'\n",
        "                        ), \n",
        "\n",
        "              yaxis=dict(\n",
        "                         showgrid=True, \n",
        "                         title= 'cum clicks'\n",
        "                        ), \n",
        "              yaxis2=dict( \n",
        "                          overlaying= 'y', \n",
        "                          anchor= 'x', \n",
        "                          side= 'right', \n",
        "                          showgrid= False, \n",
        "                          title= 'cpc'\n",
        "                         )\n",
        "             )\n",
        "\n",
        "fig = dict(data=[pareto, cpc], layout=layout)\n",
        "graphs.append(fig)\n",
        "\n",
        "\n",
        "\n",
        "pareto = dict(type='scatter',\n",
        "              x= df.frequency, \n",
        "              y= df.coverage_clicks, \n",
        "              name='Cumulative % Clicks',            \n",
        "              marker=dict(color= 'rgb(0, 29, 255)', line= dict(width= 1))\n",
        "  )\n",
        " \n",
        "cpc = dict(type='scatter',\n",
        "              x= df.frequency, \n",
        "              y= df.ctr, \n",
        "              name='ctr',            \n",
        "              marker=dict(color= 'rgb(255, 148, 0)', line= dict(width= 1)),\n",
        "              xaxis='x1',\n",
        "              yaxis='y2'\n",
        "              \n",
        "  )\n",
        "\n",
        "layout = dict(autosize= True, \n",
        "              title='Cumulative Clicks and CTR Comparison on Each Frequency',\n",
        "              legend= dict(x= 1.15, \n",
        "                           y= 1\n",
        "                          ),\n",
        "              hovermode='x',\n",
        "              xaxis=dict(tickangle= -45, \n",
        "                         autorange=True,\n",
        "                         tickfont=dict(size= 10), \n",
        "                         title= 'frequency', \n",
        "                         type= 'category'\n",
        "                        ), \n",
        "\n",
        "              yaxis=dict(\n",
        "                         showgrid=True, \n",
        "                         title= 'cum clicks'\n",
        "                        ), \n",
        "              yaxis2=dict( \n",
        "                          overlaying= 'y', \n",
        "                          anchor= 'x', \n",
        "                          side= 'right', \n",
        "                          showgrid= False, \n",
        "                          title= 'ctr'\n",
        "                         )\n",
        "             )\n",
        "\n",
        "fig = dict(data=[pareto, cpc], layout=layout)\n",
        "graphs.append(fig)\n",
        "\n",
        "\n",
        "\n",
        "pareto = dict(type='scatter',\n",
        "              x= df.frequency, \n",
        "              y= df.coverage_reach, \n",
        "              name='Cumulative % Reach',            \n",
        "              marker=dict(color= 'rgb(0, 29, 255)', line= dict(width= 1))\n",
        "  )\n",
        " \n",
        "cpc = dict(type='scatter',\n",
        "              x= df.frequency, \n",
        "              y= df.cost, \n",
        "              name='cost',            \n",
        "              marker=dict(color= 'rgb(255, 148, 0)', line= dict(width= 1)),\n",
        "              xaxis='x1',\n",
        "              yaxis='y2'\n",
        "              \n",
        "  )\n",
        "\n",
        "layout = dict(autosize= True, \n",
        "              title='Cumulative Reach and Cost Comparison on Each Frequency',\n",
        "              legend= dict(x= 1.15, \n",
        "                           y= 1\n",
        "                          ),\n",
        "              hovermode='x',\n",
        "              xaxis=dict(tickangle= -45, \n",
        "                         autorange=True,\n",
        "                         tickfont=dict(size= 10), \n",
        "                         title= 'frequency', \n",
        "                         type= 'category'\n",
        "                        ), \n",
        "\n",
        "              yaxis=dict(\n",
        "                         showgrid=True, \n",
        "                         title= 'cummulative reach'\n",
        "                        ), \n",
        "              yaxis2=dict( \n",
        "                          overlaying= 'y', \n",
        "                          anchor= 'x', \n",
        "                          side= 'right', \n",
        "                          showgrid= False, \n",
        "                          title= 'cost'\n",
        "                         )\n",
        "             )\n",
        "\n"
      ],
      "execution_count": null,
      "outputs": []
    },
    {
      "cell_type": "markdown",
      "metadata": {
        "id": "_FtXlHIu9546"
      },
      "source": [
        "### Step 2: Export all the data (optional) "
      ]
    },
    {
      "cell_type": "code",
      "metadata": {
        "id": "rFJ837ETTx3e"
      },
      "source": [
        "# Show the first 5 rows of the dataframe (data matrix) with the final data\n",
        "df.head()\n",
        "\n",
        "# Export the whole dataframe to a csv file that can be used in an external environment\n",
        "df.to_csv('freq_analysis.csv', index=False)"
      ],
      "execution_count": null,
      "outputs": []
    },
    {
      "cell_type": "markdown",
      "metadata": {
        "id": "Zi7Cexz-9-BE"
      },
      "source": [
        "## Output: Visualise the data"
      ]
    },
    {
      "cell_type": "markdown",
      "metadata": {
        "id": "EXs5BZQk-4FP"
      },
      "source": [
        "**Impression and CTR on each frequency**\n",
        "\n",
        "**Clicks and CPC Comparison on Each Frequency**\n",
        "\n",
        "**CTR and CPC Comparison on Each Frequency**\n",
        "\n",
        "**Cumulative Clicks and CPC Comparison on Each Frequency**\n",
        "\n",
        "**Cumulative Clicks and CTR Comparison on Each Frequency**\n"
      ]
    },
    {
      "cell_type": "markdown",
      "metadata": {
        "id": "KYVGdzoGA4qN"
      },
      "source": [
        "### Impression and CTR on each frequency\n"
      ]
    },
    {
      "cell_type": "markdown",
      "metadata": {
        "id": "jtM6vpCVvoDW"
      },
      "source": [
        "1. Consider your frequency range, ensure frequency management is in place. \n",
        "2. Where is your CTR floor? At what point does your CTR drop below a level that you care about. \n",
        "3. Determine what the wasted impressions is if you don't change your frequency."
      ]
    },
    {
      "cell_type": "code",
      "metadata": {
        "id": "SCHS0hcr_w5K"
      },
      "source": [
        "enable_plotly_in_cell()\n",
        "iplot(graphs[0])"
      ],
      "execution_count": null,
      "outputs": []
    },
    {
      "cell_type": "markdown",
      "metadata": {
        "id": "MqySCTS9BA9K"
      },
      "source": [
        "### Clicks and CPC Comparison on Each Frequency\n"
      ]
    },
    {
      "cell_type": "markdown",
      "metadata": {
        "id": "lBCeCH6JMl4i"
      },
      "source": [
        "1. What is your CPC ceiling\n",
        "2. Understand what the frequency is at that level\n",
        "3. Determine what impact changing your frequency will have on clicks "
      ]
    },
    {
      "cell_type": "code",
      "metadata": {
        "id": "mp1n972tAEFL"
      },
      "source": [
        "enable_plotly_in_cell()\n",
        "iplot(graphs[1])"
      ],
      "execution_count": null,
      "outputs": []
    },
    {
      "cell_type": "markdown",
      "metadata": {
        "id": "tLEwZzupBFN6"
      },
      "source": [
        "### CTR and CPC Comparison on Each Frequency\n"
      ]
    },
    {
      "cell_type": "markdown",
      "metadata": {
        "id": "j7SP_rZyDXUA"
      },
      "source": [
        "1. How does your CTR and CPC impact each other \n",
        "2. Make an informed decision regarding suitable goals\n"
      ]
    },
    {
      "cell_type": "code",
      "metadata": {
        "id": "IF_Ky084AIjQ"
      },
      "source": [
        "enable_plotly_in_cell()\n",
        "iplot(graphs[2])"
      ],
      "execution_count": null,
      "outputs": []
    },
    {
      "cell_type": "markdown",
      "metadata": {
        "id": "R7H5EC3eBIZa"
      },
      "source": [
        "### Cumulative Clicks and CPC Comparison on Each Frequency\n"
      ]
    },
    {
      "cell_type": "markdown",
      "metadata": {
        "id": "2TaSU8DGv6hD"
      },
      "source": [
        "Understand what a suitable CPC goal might be\n",
        "1. What is the change in cost for increased clicks\n",
        "2. What is the incremental gains for an increased cost\n",
        " "
      ]
    },
    {
      "cell_type": "code",
      "metadata": {
        "id": "FLN5lhhoAKfA"
      },
      "source": [
        "enable_plotly_in_cell()\n",
        "iplot(graphs[3])"
      ],
      "execution_count": null,
      "outputs": []
    },
    {
      "cell_type": "markdown",
      "metadata": {
        "id": "z7nG6r4nBLma"
      },
      "source": [
        "### Cumulative Clicks and CTR Comparison on Each Frequency"
      ]
    },
    {
      "cell_type": "markdown",
      "metadata": {
        "id": "eSuG2ZNWwA4U"
      },
      "source": [
        "\n",
        "1. At what frequency does your CTR drop below an acceptable value"
      ]
    },
    {
      "cell_type": "code",
      "metadata": {
        "id": "Elp6glbCALrn"
      },
      "source": [
        "enable_plotly_in_cell()\n",
        "iplot(graphs[4])"
      ],
      "execution_count": null,
      "outputs": []
    },
    {
      "cell_type": "markdown",
      "metadata": {
        "id": "i3ZcBLfzWUJq"
      },
      "source": [
        "# Analysis 2: Understanding optimal frequency"
      ]
    },
    {
      "cell_type": "markdown",
      "metadata": {
        "id": "wIuCM6p4-X-l"
      },
      "source": [
        "## Step 1: Set up charts"
      ]
    },
    {
      "cell_type": "code",
      "metadata": {
        "id": "OMm865grPPUN"
      },
      "source": [
        "#Understand the logic behind calculation\n",
        "graphs2 = []\n",
        "pareto = dict(type='scatter',\n",
        "              x= df.frequency, \n",
        "              y= df.coverage_reach, \n",
        "              name='Cummulative % Reach',            \n",
        "              marker=dict(color= 'rgb(0, 29, 255)', line= dict(width= 1))\n",
        "  )\n",
        " \n",
        "ccm_imp = dict(type='scatter',\n",
        "              x= df.frequency, \n",
        "              y= df.coverage_impressions, \n",
        "              name='Cummulative % Impressions',            \n",
        "              marker=dict(color= 'rgb(255, 148, 0)', line= dict(width= 1)),\n",
        "              xaxis='x1',\n",
        "              yaxis='y'\n",
        "              \n",
        "  )\n",
        "\n",
        "layout = dict(autosize= True, \n",
        "              title='Cummulative Impressions and Cummulative Reach on Each Frequency',\n",
        "              legend= dict(x= 1.15, \n",
        "                           y= 1\n",
        "                          ),\n",
        "              hovermode='x',\n",
        "              xaxis=dict(tickangle= -45, \n",
        "                         autorange=True,\n",
        "                         tickfont=dict(size= 10), \n",
        "                         title= 'frequency', \n",
        "                         type= 'category'\n",
        "                        ), \n",
        "\n",
        "              yaxis=dict(\n",
        "                         showgrid=True, \n",
        "                         title= 'cummulative %'\n",
        "                        )\n",
        "             )\n",
        "fig = dict(data=[pareto, ccm_imp], layout=layout)\n",
        "graphs2.append(fig)\n",
        "\n",
        "\n",
        "pareto = dict(type='scatter',\n",
        "              x= df.frequency, \n",
        "              y= df.coverage_clicks, \n",
        "              name='Cummulative % Clicks',            \n",
        "              marker=dict(color= 'rgb(0, 29, 255)', line= dict(width= 1))\n",
        "  )\n",
        " \n",
        "ccm_imp = dict(type='scatter',\n",
        "              x= df.frequency, \n",
        "              y= df.coverage_impressions, \n",
        "              name='Cummulative % Impressions',            \n",
        "              marker=dict(color= 'rgb(255, 148, 0)', line= dict(width= 1)),\n",
        "              xaxis='x1',\n",
        "              yaxis='y'\n",
        "              \n",
        "  )\n",
        "\n",
        "layout = dict(autosize= True, \n",
        "              title='Cumulative Impressions and Cummulative Clicks on Each Frequency',\n",
        "              legend= dict(x= 1.15, \n",
        "                           y= 1\n",
        "                          ),\n",
        "              hovermode='x',\n",
        "              xaxis=dict(tickangle= -45, \n",
        "                         autorange=True,\n",
        "                         tickfont=dict(size= 10), \n",
        "                         title= 'frequency', \n",
        "                         type= 'category'\n",
        "                        ), \n",
        "\n",
        "              yaxis=dict(\n",
        "                         showgrid=True, \n",
        "                         title= 'cummulative %'\n",
        "                        )\n",
        "             )\n",
        "fig = dict(data=[pareto, ccm_imp], layout=layout)\n",
        "graphs2.append(fig)"
      ],
      "execution_count": null,
      "outputs": []
    },
    {
      "cell_type": "markdown",
      "metadata": {
        "id": "-1A2j7pBBcqZ"
      },
      "source": [
        "## Output: Visualise the results"
      ]
    },
    {
      "cell_type": "markdown",
      "metadata": {
        "id": "rAljieIwBR7z"
      },
      "source": [
        "### Cummulative Impressions and Cummulative Reach on Each Frequency\n"
      ]
    },
    {
      "cell_type": "markdown",
      "metadata": {
        "id": "2mmzsJxOPPL-"
      },
      "source": [
        "1. How do you maximise your reach without drastically increasing your impressions?\n",
        "2. To obtain my reach goals, what frequency do I need at what impression cost? \n",
        "\n",
        "With higher frequency caps you will need more impressions to maximise your reach"
      ]
    },
    {
      "cell_type": "code",
      "metadata": {
        "id": "GK2ONHLEBSWF"
      },
      "source": [
        "enable_plotly_in_cell()\n",
        "iplot(graphs2[0])"
      ],
      "execution_count": null,
      "outputs": []
    },
    {
      "cell_type": "markdown",
      "metadata": {
        "id": "z6-LqvhhBS4G"
      },
      "source": [
        "### Cummulative Impressions and Cummulative Clicks on Each Frequency"
      ]
    },
    {
      "cell_type": "markdown",
      "metadata": {
        "id": "iBr1f32l0r-7"
      },
      "source": [
        "1. To obtain my goals in terms of clicks, what frequency do I need, at what impression cost? \n",
        "\n"
      ]
    },
    {
      "cell_type": "code",
      "metadata": {
        "id": "ikKeL-kKBTWA"
      },
      "source": [
        "enable_plotly_in_cell()\n",
        "iplot(graphs2[1])"
      ],
      "execution_count": null,
      "outputs": []
    },
    {
      "cell_type": "markdown",
      "metadata": {
        "id": "n51MxqBil1Y9"
      },
      "source": [
        "# Analysis 3: Determine impressions outside optimal frequency\n",
        "\n",
        "## Step 1: Define parameter to be the Optimal Frequency\n",
        "This parameter below will guide the analysis of media loss talking about impressions. We will calculate the percentage of impressions that are out of the number you set as the optimal frequency."
      ]
    },
    {
      "cell_type": "code",
      "metadata": {
        "id": "IYsa6Z3xehYb"
      },
      "source": [
        "#@title 1.1 - Optimal Frequency\n",
        "optimal_freq = 3 #@param {type:\"integer\", allow-input: true}"
      ],
      "execution_count": null,
      "outputs": []
    },
    {
      "cell_type": "markdown",
      "metadata": {
        "id": "FUSXFNWKEFAG"
      },
      "source": [
        "## Output: Calculate impression loss"
      ]
    },
    {
      "cell_type": "code",
      "metadata": {
        "id": "Mlj_OtiEejxW"
      },
      "source": [
        "from __future__ import division\n",
        "\n",
        "df2 = df_calc_fields(df2)\n",
        "df_opt, df_not_opt = df[1:optimal_freq+1], df[optimal_freq+1:]\n",
        "\n",
        "total_impressions = list(df2.cumulative_impressions)[-1]\n",
        "total_imp_not_opt = list(df_not_opt.cumulative_impressions)[-1] - list(df_opt.cumulative_impressions)[-1]\n",
        "\n",
        "imp_not_opt_ratio = total_imp_not_opt / total_impressions\n",
        "\n",
        "total_clicks = list(df2.cumulative_clicks)[-1]\n",
        "total_clicks_not_opt = list(df_not_opt.cumulative_clicks)[-1] - list(df_opt.cumulative_clicks)[-1]\n",
        "\n",
        "clicks_within_opt_ratio = 1-(total_clicks_not_opt / total_clicks)\n",
        "\n",
        "\n",
        "print(\"{:.1f}% of your total impressions are out of the optimal frequency.\".format(imp_not_opt_ratio*100))\n",
        "print(\"{:,} of your impressions are out of the optimal frequency\".format(total_imp_not_opt))\n",
        "print(\"At a CPM of {} - preventing these would result in a cost saving of {:,}\".format(cpm, cpm*total_imp_not_opt))\n",
        "print(\"\")\n",
        "print(\"If you limited frequency to {}, you would still achieve {:.1f}% of your clicks\").format(optimal_freq, clicks_within_opt_ratio*100)"
      ],
      "execution_count": null,
      "outputs": []
    }
  ]
}