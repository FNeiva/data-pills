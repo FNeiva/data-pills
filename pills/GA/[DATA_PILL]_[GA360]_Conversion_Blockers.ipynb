{
  "nbformat": 4,
  "nbformat_minor": 0,
  "metadata": {
    "colab": {
      "name": "[DATA PILL] [GA360] - Conversion Blockers.ipynb",
      "provenance": [],
      "collapsed_sections": [],
      "toc_visible": true
    },
    "kernelspec": {
      "name": "python3",
      "display_name": "Python 3"
    }
  },
  "cells": [
    {
      "cell_type": "markdown",
      "metadata": {
        "id": "J_xMGY09NFC3"
      },
      "source": [
        "Licensed under the Apache License, Version 2.0 (the \"License\");\n",
        "you may not use this file except in compliance with the License.\n",
        "You may obtain a copy of the License at\n",
        "\n",
        "    https://www.apache.org/licenses/LICENSE-2.0\n",
        "\n",
        "Unless required by applicable law or agreed to in writing, software\n",
        "distributed under the License is distributed on an \"AS IS\" BASIS,\n",
        "WITHOUT WARRANTIES OR CONDITIONS OF ANY KIND, either express or implied.\n",
        "See the License for the specific language governing permissions and\n",
        "limitations under the License.\n",
        "\n",
        "\n",
        "#Important\n",
        "This content are intended for educational and informational purposes only."
      ]
    },
    {
      "cell_type": "markdown",
      "metadata": {
        "id": "bkSydQkR2uxI"
      },
      "source": [
        "## Conversion Blockers Analysis\n",
        "<br>\n",
        "In this analysis we will be looking into main user characteristics captured by Google Analytics which can affect website UX and how they impact e-commerce transaction rate.\n",
        "<br>\n",
        "**Key notes / assumptions**\n",
        "<br>\n",
        "For the following analysis, we will call specific data properties (i.e. Browser version) a FEATURE, and each value of a feature (i.e. <i>Chrome V10.1</i>), a LABEL\n"
      ]
    },
    {
      "cell_type": "markdown",
      "metadata": {
        "id": "9jhVJvanZdvn"
      },
      "source": [
        "## Step 1: Setup "
      ]
    },
    {
      "cell_type": "markdown",
      "metadata": {
        "id": "7J7PyfCWcp5P"
      },
      "source": [
        "### Install all dependencies and authorize bigQuery access \n",
        "\n",
        "---\n",
        "\n"
      ]
    },
    {
      "cell_type": "code",
      "metadata": {
        "id": "N1d8sVBCNjsb"
      },
      "source": [
        "# Import all necessary libs\n",
        "from google.colab import auth\n",
        "import pandas as pd\n",
        "import numpy as np\n",
        "from matplotlib import pyplot as plt\n",
        "from IPython.display import display, HTML\n",
        "\n",
        "# Authenticate the user to query datasets  in Google BigQuery\n",
        "auth.authenticate_user()\n",
        "%matplotlib inline\n"
      ],
      "execution_count": null,
      "outputs": []
    },
    {
      "cell_type": "markdown",
      "metadata": {
        "id": "y8mvCvMw5PnC"
      },
      "source": [
        "###Define analysis parameters"
      ]
    },
    {
      "cell_type": "code",
      "metadata": {
        "id": "f5NT-5pT22rn",
        "cellView": "form"
      },
      "source": [
        "#@title Define the data source in BigQuery:\n",
        "project_id = 'bigquery-public-data' #@param\n",
        "dataset_name = 'google_analytics_sample' #@param\n",
        "table_name = 'ga_sessions_*'#@param\n",
        "start_date = '2014-10-01'#@param {type:\"date\"}\n",
        "end_date = '2019-12-12'#@param{type:\"date\"}\n",
        "billing_project_id = 'my-project' #@param"
      ],
      "execution_count": null,
      "outputs": []
    },
    {
      "cell_type": "markdown",
      "metadata": {
        "id": "48dXc8TyZti9"
      },
      "source": [
        "##Step 2: Create analysis building blocks"
      ]
    },
    {
      "cell_type": "markdown",
      "metadata": {
        "id": "dfkKLHrUZJDV"
      },
      "source": [
        "On the following coding blocks, we will create functions that will allow us to easily run the analysis multiple times, one for each feature"
      ]
    },
    {
      "cell_type": "markdown",
      "metadata": {
        "id": "ga44qyoUcWi3"
      },
      "source": [
        "###Create query builder function based on tamplate"
      ]
    },
    {
      "cell_type": "code",
      "metadata": {
        "id": "Z9w_ClosPdlD"
      },
      "source": [
        "#assemble dynamic content dictionary\n",
        "dc = {}\n",
        "dc['project_id'] = project_id\n",
        "dc['dataset_name'] = dataset_name\n",
        "dc['table_name'] = table_name\n",
        "dc['start_date'] = start_date.replace('-','')\n",
        "dc['end_date'] = end_date.replace('-','')\n",
        "\n",
        "#render final query function\n",
        "def render_final_query(dc, display = False):\n",
        "  q1 = '''\n",
        "  #fetch # of transaction, sessions and transaction rate for each feature value\n",
        "  WITH t0 AS \n",
        "  (SELECT\n",
        "    {feature} AS feature,\n",
        "    SUM(IFNULL(sessions.totals.transactions, 0)) AS transactions,\n",
        "    COUNT(sessions.visitStartTime) AS count_sessions,\n",
        "    SUM(IFNULL(sessions.totals.transactions, 0))/COUNT(sessions.visitStartTime) AS transaction_rate\n",
        "  FROM\n",
        "  `{project_id}.{dataset_name}.{table_name}` as sessions,\n",
        "    UNNEST(hits) AS hits\n",
        "  WHERE\n",
        "      hits.hitNumber = 1 AND\n",
        "      date BETWEEN '{start_date}'\n",
        "      AND '{end_date}'\n",
        "  GROUP BY 1\n",
        "  ),\n",
        "\n",
        "  #calculate % of total sessions of each feature value and global (avg) transaction rate \n",
        "  t1 AS\n",
        "  (\n",
        "    SELECT \n",
        "    *,\n",
        "    SUM(count_sessions) OVER() AS total_sessions,\n",
        "    SUM(transactions) OVER() AS total_transaction,\n",
        "    AVG(transaction_rate) OVER() AS average_transaction_rate,\n",
        "    count_sessions/SUM(count_sessions) OVER() AS sessions_percentage\n",
        "    FROM t0\n",
        "    ORDER BY transaction_rate\n",
        "  )\n",
        "\n",
        "  #limit results to only values that represent over 2% of all sessions\n",
        "  #and, for remaining lines evaluate if they are bellow stdev limit \n",
        "  SELECT *,\n",
        "  IF(transaction_rate < average_transaction_rate * 0.2, true, false) AS bellow_limit\n",
        "  from t1\n",
        "  WHERE sessions_percentage > 0.01\n",
        "    '''.format(**dc)\n",
        "  if display:\n",
        "    print('Final BigQuery SQL:')\n",
        "    print(q1)\n",
        "  return q1"
      ],
      "execution_count": null,
      "outputs": []
    },
    {
      "cell_type": "code",
      "metadata": {
        "id": "cNCQqNb0aDIX"
      },
      "source": [
        "#run bigQuery query function\n",
        "def run_big_query(q):\n",
        "  return pd.io.gbq.read_gbq(q, project_id=billing_project_id, verbose=False, dialect='standard')"
      ],
      "execution_count": null,
      "outputs": []
    },
    {
      "cell_type": "markdown",
      "metadata": {
        "id": "dVz9AYy9ccw1"
      },
      "source": [
        "### Create function to Display Query results in bar chart \n"
      ]
    },
    {
      "cell_type": "code",
      "metadata": {
        "id": "FlffPsUt8ez4"
      },
      "source": [
        "def plot_graph(df, title):\n",
        "  #define column colors:\n",
        "  colors = []\n",
        "  for index, row in df.iterrows():\n",
        "    bellow_limit = df['bellow_limit'][index]\n",
        "    if(bellow_limit):\n",
        "      colors.append('r') #set color to red\n",
        "    else:\n",
        "      colors.append('b') #set color to blue\n",
        "\n",
        "\n",
        "  # Specify this list of colors as the `color` option to `plot`.\n",
        "  df.plot(x='feature', y='transaction_rate', kind='bar', stacked=False, color = colors, title = title, yticks=[])"
      ],
      "execution_count": null,
      "outputs": []
    },
    {
      "cell_type": "markdown",
      "metadata": {
        "id": "z1p7TXK2Lu5U"
      },
      "source": [
        "## Step 3: Run entire pipeline for each feature and plot results\n"
      ]
    },
    {
      "cell_type": "code",
      "metadata": {
        "id": "tOUMtK44AIJT"
      },
      "source": [
        "#uncomment each line to enable that analysis\n",
        "features = [\n",
        "(\"Operating System\",\"CONCAT(sessions.device.operatingSystem, ' ', sessions.device.operatingSystemVersion)\"),\n",
        "(\"Browser\",\"CONCAT( sessions.device.browser, ' ', sessions.device.browserversion)\"),\n",
        "(\"Language\",\"sessions.device.language\"),\n",
        "#(\"Device Type\",\"sessions.device.deviceCategory\"),\n",
        "#(\"Country\",\"sessions.geoNetwork.country\"),\n",
        "#(\"Region\",\"sessions.geoNetwork.region\"),\n",
        "#(\"City\",\"sessions.geoNetwork.city\"),\n",
        "#(\"Landing Page\",\"CONCAT(hits.page.hostname, hits.page.pagePath)\"),\n",
        "#(\"Screen Pixels (e5)\",\"IF(ARRAY_LENGTH(SPLIT(sessions.device.screenResolution,'x')) = 2,ROUND(CAST(SPLIT(sessions.device.screenResolution,'x')[OFFSET(0)] AS INT64) * CAST(SPLIT(sessions.device.screenResolution,'x')[OFFSET(1)] AS INT64)/100000), Null)\")\n",
        "]"
      ],
      "execution_count": null,
      "outputs": []
    },
    {
      "cell_type": "code",
      "metadata": {
        "id": "1nnGeTpIaLkz"
      },
      "source": [
        "#for each feature Tuple\n",
        "for item in features:\n",
        "  #define custom values for SQL Query generation\n",
        "  dc['feature'] = item[1]\n",
        "  #generate sql\n",
        "  q = render_final_query(dc, display=True)\n",
        "\n",
        "  # REMOVE LINE BELLOW to execute query (this might result in bigQuery costs)\n",
        "\n",
        "  \n",
        "  #run query in BQ\n",
        "  df = run_big_query(q)\n",
        "  #print query results\n",
        "  print(\"Results for \" + item[0])\n",
        "  display(df)\n",
        "  print(\" \")\n",
        "  #plot graph\n",
        "  plot_graph(df, item[0])"
      ],
      "execution_count": null,
      "outputs": []
    }
  ]
}